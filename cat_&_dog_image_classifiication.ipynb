{
  "nbformat": 4,
  "nbformat_minor": 0,
  "metadata": {
    "colab": {
      "provenance": [],
      "mount_file_id": "19EVhIDIBOCpFXMWRDqIZ5acOTtvVS_QB",
      "authorship_tag": "ABX9TyNgN/2WZn6/npq5NqtN2TQT",
      "include_colab_link": true
    },
    "kernelspec": {
      "name": "python3",
      "display_name": "Python 3"
    },
    "language_info": {
      "name": "python"
    }
  },
  "cells": [
    {
      "cell_type": "markdown",
      "metadata": {
        "id": "view-in-github",
        "colab_type": "text"
      },
      "source": [
        "<a href=\"https://colab.research.google.com/github/ShibuGitB/task/blob/main/cat_%26_dog_image_classifiication.ipynb\" target=\"_parent\"><img src=\"https://colab.research.google.com/assets/colab-badge.svg\" alt=\"Open In Colab\"/></a>"
      ]
    },
    {
      "cell_type": "code",
      "source": [
        "import os\n",
        "from skimage.io import imread\n",
        "from skimage.transform import resize\n",
        "import pandas as pd"
      ],
      "metadata": {
        "id": "W5rlvro5oEol"
      },
      "execution_count": null,
      "outputs": []
    },
    {
      "cell_type": "code",
      "source": [
        "data=[]\n",
        "target=[]\n",
        "categories=[\"cat\",\"dog\"]\n",
        "\n",
        "datadir=\"/content/drive/MyDrive/data\"\n",
        "for i in categories :\n",
        "\n",
        "  print (\"loading\",i)\n",
        "  path=os.path.join(datadir,i)\n",
        "  images=os.listdir(path)\n",
        "  for j in images :\n",
        "\n",
        "    img=os.path.join(path,j)\n",
        "    imr=imread(img)\n",
        "    imgrs=resize(imr,(150,150,3))\n",
        "    imgf=imgrs.flatten()\n",
        "    data.append(imgf)\n",
        "    target.append(categories.index(i))\n",
        "\n",
        "  print (\"loaded category\",i)"
      ],
      "metadata": {
        "colab": {
          "base_uri": "https://localhost:8080/"
        },
        "id": "LceoP66em0Wq",
        "outputId": "dd589768-aef0-4c47-f268-2ce1e1195c47"
      },
      "execution_count": null,
      "outputs": [
        {
          "output_type": "stream",
          "name": "stdout",
          "text": [
            "loading cat\n",
            "loaded category cat\n",
            "loading dog\n",
            "loaded category dog\n"
          ]
        }
      ]
    },
    {
      "cell_type": "code",
      "source": [
        "import numpy as np\n",
        "\n",
        "x=pd.DataFrame(data)\n",
        "y=np.array(target)"
      ],
      "metadata": {
        "id": "jB7PW3coyW4A"
      },
      "execution_count": null,
      "outputs": []
    },
    {
      "cell_type": "code",
      "source": [
        "from sklearn.model_selection import train_test_split\n",
        "x_train,x_test,y_train,y_test=train_test_split(x,y,test_size=0.3,random_state=1)"
      ],
      "metadata": {
        "id": "NsagDu471tjB"
      },
      "execution_count": null,
      "outputs": []
    },
    {
      "cell_type": "code",
      "source": [
        "from sklearn.svm import SVC\n",
        "z=SVC(kernel=\"linear\")\n",
        "z.fit(x_train,y_train)\n",
        "w=z.predict(x_test)"
      ],
      "metadata": {
        "id": "qoocpWRa2MUB"
      },
      "execution_count": null,
      "outputs": []
    },
    {
      "cell_type": "code",
      "source": [
        "from sklearn.metrics import accuracy_score\n",
        "print (accuracy_score(y_test,w))"
      ],
      "metadata": {
        "colab": {
          "base_uri": "https://localhost:8080/"
        },
        "id": "oztoHQ5e25p1",
        "outputId": "33cba655-cded-4432-d0fa-d8f46f4b2d39"
      },
      "execution_count": null,
      "outputs": [
        {
          "output_type": "stream",
          "name": "stdout",
          "text": [
            "0.5526315789473685\n"
          ]
        }
      ]
    },
    {
      "cell_type": "code",
      "source": [
        "from sklearn.metrics import ConfusionMatrixDisplay\n",
        "print (ConfusionMatrixDisplay.from_predictions(y_test,w))"
      ],
      "metadata": {
        "colab": {
          "base_uri": "https://localhost:8080/",
          "height": 473
        },
        "id": "BLR_Lnk73GJh",
        "outputId": "c0c0b4a8-e201-4874-856f-ce79d657c45f"
      },
      "execution_count": null,
      "outputs": [
        {
          "output_type": "stream",
          "name": "stdout",
          "text": [
            "<sklearn.metrics._plot.confusion_matrix.ConfusionMatrixDisplay object at 0x7f4e1a51bc70>\n"
          ]
        },
        {
          "output_type": "display_data",
          "data": {
            "text/plain": [
              "<Figure size 640x480 with 2 Axes>"
            ],
            "image/png": "[encoded data removed]"
          },
          "metadata": {}
        }
      ]
    },
    {
      "cell_type": "code",
      "source": [
        "from sklearn.metrics import classification_report\n",
        "print (classification_report(y_test,w))"
      ],
      "metadata": {
        "colab": {
          "base_uri": "https://localhost:8080/"
        },
        "id": "ySh4WoiG3X9b",
        "outputId": "b63bf1f2-bafe-40d6-d1b2-6a4f94b57457"
      },
      "execution_count": null,
      "outputs": [
        {
          "output_type": "stream",
          "name": "stdout",
          "text": [
            "              precision    recall  f1-score   support\n",
            "\n",
            "           0       0.45      0.67      0.54        15\n",
            "           1       0.69      0.48      0.56        23\n",
            "\n",
            "    accuracy                           0.55        38\n",
            "   macro avg       0.57      0.57      0.55        38\n",
            "weighted avg       0.60      0.55      0.55        38\n",
            "\n"
          ]
        }
      ]
    },
    {
      "cell_type": "code",
      "source": [
        "newpath=\"/content/drive/MyDrive/th (4).jpeg\"\n",
        "newread=imread(newpath)\n",
        "newim=resize(newread,(150,150,3))\n",
        "newimg=newim.flatten()\n",
        "newimg"
      ],
      "metadata": {
        "colab": {
          "base_uri": "https://localhost:8080/"
        },
        "id": "bFJzLzMtA9pg",
        "outputId": "345fc024-6cc6-4dde-badc-fb9127e5a61f"
      },
      "execution_count": null,
      "outputs": [
        {
          "output_type": "execute_result",
          "data": {
            "text/plain": [
              "array([0.645703  , 0.69294445, 0.63725173, ..., 0.46126783, 0.52130183,\n",
              "       0.19723656])"
            ]
          },
          "metadata": {},
          "execution_count": 9
        }
      ]
    },
    {
      "cell_type": "code",
      "source": [
        "newimg.shape"
      ],
      "metadata": {
        "colab": {
          "base_uri": "https://localhost:8080/"
        },
        "id": "rRRNI8UuB9G3",
        "outputId": "caba40d9-9af7-40b2-b5c9-e62f09588fae"
      },
      "execution_count": null,
      "outputs": [
        {
          "output_type": "execute_result",
          "data": {
            "text/plain": [
              "(67500,)"
            ]
          },
          "metadata": {},
          "execution_count": 10
        }
      ]
    },
    {
      "cell_type": "code",
      "source": [
        "x_train.shape"
      ],
      "metadata": {
        "colab": {
          "base_uri": "https://localhost:8080/"
        },
        "id": "kREnSSStB_Ru",
        "outputId": "ece05571-5a5c-4c49-93b6-e9349d69a5ab"
      },
      "execution_count": null,
      "outputs": [
        {
          "output_type": "execute_result",
          "data": {
            "text/plain": [
              "(88, 67500)"
            ]
          },
          "metadata": {},
          "execution_count": 11
        }
      ]
    },
    {
      "cell_type": "code",
      "source": [
        "x_test.shape"
      ],
      "metadata": {
        "colab": {
          "base_uri": "https://localhost:8080/"
        },
        "id": "oXN56rGsCBqx",
        "outputId": "0bc69c01-7f85-4421-ce90-46fdc4e1ebf9"
      },
      "execution_count": null,
      "outputs": [
        {
          "output_type": "execute_result",
          "data": {
            "text/plain": [
              "(38, 67500)"
            ]
          },
          "metadata": {},
          "execution_count": 12
        }
      ]
    },
    {
      "cell_type": "code",
      "source": [
        "newimg2=newimg.reshape(1,-1)"
      ],
      "metadata": {
        "id": "pY1AgIeECFZG"
      },
      "execution_count": null,
      "outputs": []
    },
    {
      "cell_type": "code",
      "source": [
        "newimg2.shape"
      ],
      "metadata": {
        "colab": {
          "base_uri": "https://localhost:8080/"
        },
        "id": "K10bYnrzCKlR",
        "outputId": "da46a3da-7dd4-4d79-d857-3035e9c5254e"
      },
      "execution_count": null,
      "outputs": [
        {
          "output_type": "execute_result",
          "data": {
            "text/plain": [
              "(1, 67500)"
            ]
          },
          "metadata": {},
          "execution_count": 14
        }
      ]
    },
    {
      "cell_type": "code",
      "source": [
        "prediction=z.predict(newimg2)\n",
        "\n",
        "if prediction==1 :\n",
        "\n",
        "  print (\"dog\")\n",
        "\n",
        "else :\n",
        "\n",
        "  print (\"cat\")"
      ],
      "metadata": {
        "colab": {
          "base_uri": "https://localhost:8080/"
        },
        "id": "QmvKpGVzCORE",
        "outputId": "2d7633a1-8dae-452c-deb3-64336528ce9a"
      },
      "execution_count": null,
      "outputs": [
        {
          "output_type": "stream",
          "name": "stdout",
          "text": [
            "dog\n"
          ]
        }
      ]
    }
  ]
}