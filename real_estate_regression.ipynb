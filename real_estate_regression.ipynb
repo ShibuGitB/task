{
  "nbformat": 4,
  "nbformat_minor": 0,
  "metadata": {
    "colab": {
      "provenance": [],
      "mount_file_id": "1xrJ2MubNFyDauAROkC4Tk_9Pbx8gPc2I",
      "authorship_tag": "ABX9TyPNcg020l1Hm+bhlhCCDh9/",
      "include_colab_link": true
    },
    "kernelspec": {
      "name": "python3",
      "display_name": "Python 3"
    },
    "language_info": {
      "name": "python"
    }
  },
  "cells": [
    {
      "cell_type": "markdown",
      "metadata": {
        "id": "view-in-github",
        "colab_type": "text"
      },
      "source": [
        "<a href=\"https://colab.research.google.com/github/ShibuGitB/task/blob/main/real_estate_regression.ipynb\" target=\"_parent\"><img src=\"https://colab.research.google.com/assets/colab-badge.svg\" alt=\"Open In Colab\"/></a>"
      ]
    },
    {
      "cell_type": "code",
      "source": [
        "from google.colab import drive\n",
        "drive.mount('/content/drive')"
      ],
      "metadata": {
        "colab": {
          "base_uri": "https://localhost:8080/"
        },
        "id": "muQjOnXafWXp",
        "outputId": "056a7282-a6f1-41f9-a4e6-aa568b58905a"
      },
      "execution_count": null,
      "outputs": [
        {
          "output_type": "stream",
          "name": "stdout",
          "text": [
            "Drive already mounted at /content/drive; to attempt to forcibly remount, call drive.mount(\"/content/drive\", force_remount=True).\n"
          ]
        }
      ]
    },
    {
      "cell_type": "markdown",
      "source": [
        "imported dataset \"real estate\""
      ],
      "metadata": {
        "id": "Dnc3l8PWKsSj"
      }
    },
    {
      "cell_type": "code",
      "source": [
        "import pandas as pd\n",
        "\n",
        "X=pd.read_csv(\"/content/drive/MyDrive/data sets/Real estate.csv\")\n",
        "print (X)"
      ],
      "metadata": {
        "colab": {
          "base_uri": "https://localhost:8080/"
        },
        "id": "mvdeH8tYgHcv",
        "outputId": "4b3334f9-1999-44da-c74a-9ee050ee86f5"
      },
      "execution_count": null,
      "outputs": [
        {
          "output_type": "stream",
          "name": "stdout",
          "text": [
            "      No  X1 transaction date  X2 house age  \\\n",
            "0      1             2012.917          32.0   \n",
            "1      2             2012.917          19.5   \n",
            "2      3             2013.583          13.3   \n",
            "3      4             2013.500          13.3   \n",
            "4      5             2012.833           5.0   \n",
            "..   ...                  ...           ...   \n",
            "409  410             2013.000          13.7   \n",
            "410  411             2012.667           5.6   \n",
            "411  412             2013.250          18.8   \n",
            "412  413             2013.000           8.1   \n",
            "413  414             2013.500           6.5   \n",
            "\n",
            "     X3 distance to the nearest MRT station  X4 number of convenience stores  \\\n",
            "0                                  84.87882                               10   \n",
            "1                                 306.59470                                9   \n",
            "2                                 561.98450                                5   \n",
            "3                                 561.98450                                5   \n",
            "4                                 390.56840                                5   \n",
            "..                                      ...                              ...   \n",
            "409                              4082.01500                                0   \n",
            "410                                90.45606                                9   \n",
            "411                               390.96960                                7   \n",
            "412                               104.81010                                5   \n",
            "413                                90.45606                                9   \n",
            "\n",
            "     X5 latitude  X6 longitude  Y house price of unit area  \n",
            "0       24.98298     121.54024                        37.9  \n",
            "1       24.98034     121.53951                        42.2  \n",
            "2       24.98746     121.54391                        47.3  \n",
            "3       24.98746     121.54391                        54.8  \n",
            "4       24.97937     121.54245                        43.1  \n",
            "..           ...           ...                         ...  \n",
            "409     24.94155     121.50381                        15.4  \n",
            "410     24.97433     121.54310                        50.0  \n",
            "411     24.97923     121.53986                        40.6  \n",
            "412     24.96674     121.54067                        52.5  \n",
            "413     24.97433     121.54310                        63.9  \n",
            "\n",
            "[414 rows x 8 columns]\n"
          ]
        }
      ]
    },
    {
      "cell_type": "code",
      "source": [
        "droping columns like \"No\" & \"X1 transaction date\""
      ],
      "metadata": {
        "id": "nNhediihK0Pe"
      },
      "execution_count": null,
      "outputs": []
    },
    {
      "cell_type": "code",
      "source": [
        "X.drop([\"No\",\"X1 transaction date\"],axis=1,inplace=True)"
      ],
      "metadata": {
        "id": "a_CS6CwsgU7M"
      },
      "execution_count": null,
      "outputs": []
    },
    {
      "cell_type": "markdown",
      "source": [
        "checkes whether the dataset have missing value or not"
      ],
      "metadata": {
        "id": "04wjPWtUK-mj"
      }
    },
    {
      "cell_type": "code",
      "source": [
        "print (X.isna().sum())"
      ],
      "metadata": {
        "colab": {
          "base_uri": "https://localhost:8080/"
        },
        "id": "zs_rLIkwirK9",
        "outputId": "d5e87e9f-7c65-4bdf-e4cd-4f39ea2c3a65"
      },
      "execution_count": null,
      "outputs": [
        {
          "output_type": "stream",
          "name": "stdout",
          "text": [
            "X2 house age                              0\n",
            "X3 distance to the nearest MRT station    0\n",
            "X4 number of convenience stores           0\n",
            "X5 latitude                               0\n",
            "X6 longitude                              0\n",
            "Y house price of unit area                0\n",
            "dtype: int64\n"
          ]
        }
      ]
    },
    {
      "cell_type": "markdown",
      "source": [
        "checked all the columns are numeric"
      ],
      "metadata": {
        "id": "F62eZnEfLFA8"
      }
    },
    {
      "cell_type": "code",
      "source": [
        "print (X.dtypes)"
      ],
      "metadata": {
        "colab": {
          "base_uri": "https://localhost:8080/"
        },
        "id": "ceWbil8Yiuca",
        "outputId": "14f65e0c-0ba2-4fa9-83ee-47a1e3e469f9"
      },
      "execution_count": null,
      "outputs": [
        {
          "output_type": "stream",
          "name": "stdout",
          "text": [
            "X2 house age                              float64\n",
            "X3 distance to the nearest MRT station    float64\n",
            "X4 number of convenience stores             int64\n",
            "X5 latitude                               float64\n",
            "X6 longitude                              float64\n",
            "Y house price of unit area                float64\n",
            "dtype: object\n"
          ]
        }
      ]
    },
    {
      "cell_type": "markdown",
      "source": [
        "seperated and stored in put in x"
      ],
      "metadata": {
        "id": "cALZ22D7LIGU"
      }
    },
    {
      "cell_type": "code",
      "source": [
        "x=X.iloc[:,0:5]\n",
        "print (x)"
      ],
      "metadata": {
        "colab": {
          "base_uri": "https://localhost:8080/"
        },
        "id": "H2BxIvHdi07Y",
        "outputId": "e90789fe-e29d-4d9c-b1ab-d202b910c0c8"
      },
      "execution_count": null,
      "outputs": [
        {
          "output_type": "stream",
          "name": "stdout",
          "text": [
            "     X2 house age  X3 distance to the nearest MRT station  \\\n",
            "0            32.0                                84.87882   \n",
            "1            19.5                               306.59470   \n",
            "2            13.3                               561.98450   \n",
            "3            13.3                               561.98450   \n",
            "4             5.0                               390.56840   \n",
            "..            ...                                     ...   \n",
            "409          13.7                              4082.01500   \n",
            "410           5.6                                90.45606   \n",
            "411          18.8                               390.96960   \n",
            "412           8.1                               104.81010   \n",
            "413           6.5                                90.45606   \n",
            "\n",
            "     X4 number of convenience stores  X5 latitude  X6 longitude  \n",
            "0                                 10     24.98298     121.54024  \n",
            "1                                  9     24.98034     121.53951  \n",
            "2                                  5     24.98746     121.54391  \n",
            "3                                  5     24.98746     121.54391  \n",
            "4                                  5     24.97937     121.54245  \n",
            "..                               ...          ...           ...  \n",
            "409                                0     24.94155     121.50381  \n",
            "410                                9     24.97433     121.54310  \n",
            "411                                7     24.97923     121.53986  \n",
            "412                                5     24.96674     121.54067  \n",
            "413                                9     24.97433     121.54310  \n",
            "\n",
            "[414 rows x 5 columns]\n"
          ]
        }
      ]
    },
    {
      "cell_type": "markdown",
      "source": [
        "seperated and stored output in y"
      ],
      "metadata": {
        "id": "H3dcamMFLLzW"
      }
    },
    {
      "cell_type": "code",
      "source": [
        "y=X.iloc[:,5]\n",
        "print (y)"
      ],
      "metadata": {
        "colab": {
          "base_uri": "https://localhost:8080/"
        },
        "id": "LtTD4CUEi6hm",
        "outputId": "4c53a1bc-7506-408c-a2cc-f5b6c5647eb4"
      },
      "execution_count": null,
      "outputs": [
        {
          "output_type": "stream",
          "name": "stdout",
          "text": [
            "0      37.9\n",
            "1      42.2\n",
            "2      47.3\n",
            "3      54.8\n",
            "4      43.1\n",
            "       ... \n",
            "409    15.4\n",
            "410    50.0\n",
            "411    40.6\n",
            "412    52.5\n",
            "413    63.9\n",
            "Name: Y house price of unit area, Length: 414, dtype: float64\n"
          ]
        }
      ]
    },
    {
      "cell_type": "markdown",
      "source": [
        "scaled input"
      ],
      "metadata": {
        "id": "-W_HP3moLQDO"
      }
    },
    {
      "cell_type": "code",
      "source": [
        "from sklearn.preprocessing import MinMaxScaler\n",
        "z=MinMaxScaler()\n",
        "z.fit(x)\n",
        "w=z.transform(x)"
      ],
      "metadata": {
        "id": "iGEF18xHjQ-1"
      },
      "execution_count": null,
      "outputs": []
    },
    {
      "cell_type": "markdown",
      "source": [
        "took input & ouput for training & testing"
      ],
      "metadata": {
        "id": "M5RSHsS8LRzc"
      }
    },
    {
      "cell_type": "code",
      "source": [
        "from sklearn.model_selection import train_test_split\n",
        "x_train,x_test,y_train,y_test=train_test_split(w,y,test_size=0.3,random_state=1)"
      ],
      "metadata": {
        "id": "6brEuDemjjQm"
      },
      "execution_count": null,
      "outputs": []
    },
    {
      "cell_type": "markdown",
      "source": [
        "applied multiple linear regression algorithm and got only 52 accuracy so decided test other regression algorithms"
      ],
      "metadata": {
        "id": "f9XQ3RS8LckZ"
      }
    },
    {
      "cell_type": "code",
      "source": [
        "from sklearn.linear_model import LinearRegression\n",
        "q=LinearRegression()\n",
        "q.fit(x_train,y_train)\n",
        "l=q.predict(x_test)\n",
        "o=y_test.values"
      ],
      "metadata": {
        "id": "6YYohDVaj1HL"
      },
      "execution_count": null,
      "outputs": []
    },
    {
      "cell_type": "code",
      "source": [
        "from sklearn.metrics import r2_score\n",
        "print (r2_score(o,l))"
      ],
      "metadata": {
        "colab": {
          "base_uri": "https://localhost:8080/"
        },
        "id": "iehFjk-WkxFq",
        "outputId": "ebc1510a-b8ad-4004-887b-6b4eb8f5bf64"
      },
      "execution_count": null,
      "outputs": [
        {
          "output_type": "stream",
          "name": "stdout",
          "text": [
            "0.5277562430942584\n"
          ]
        }
      ]
    },
    {
      "cell_type": "markdown",
      "source": [
        "mean_absolute_error"
      ],
      "metadata": {
        "id": "mJlRwJRPLw66"
      }
    },
    {
      "cell_type": "code",
      "source": [
        "from sklearn.metrics import mean_absolute_error\n",
        "print (mean_absolute_error(o,l))"
      ],
      "metadata": {
        "colab": {
          "base_uri": "https://localhost:8080/"
        },
        "id": "5pwULChXlMqx",
        "outputId": "e5c36448-418a-4a68-926e-731478516753"
      },
      "execution_count": null,
      "outputs": [
        {
          "output_type": "stream",
          "name": "stdout",
          "text": [
            "6.376246152427253\n"
          ]
        }
      ]
    },
    {
      "cell_type": "markdown",
      "source": [
        "mean_squared_error"
      ],
      "metadata": {
        "id": "CUd70KZtL0y9"
      }
    },
    {
      "cell_type": "code",
      "source": [
        "from sklearn.metrics import mean_squared_error\n",
        "print (mean_squared_error(o,l))"
      ],
      "metadata": {
        "colab": {
          "base_uri": "https://localhost:8080/"
        },
        "id": "uZBh1nuxltnC",
        "outputId": "22e50f5a-1124-4c97-be8e-1494f56f9e4f"
      },
      "execution_count": null,
      "outputs": [
        {
          "output_type": "stream",
          "name": "stdout",
          "text": [
            "108.81674879525524\n"
          ]
        }
      ]
    },
    {
      "cell_type": "markdown",
      "source": [
        "KNN regression"
      ],
      "metadata": {
        "id": "ZPXE0iOxL4Jh"
      }
    },
    {
      "cell_type": "code",
      "source": [
        "from sklearn.neighbors import KNeighborsRegressor\n",
        "q=KNeighborsRegressor(n_neighbors=3)\n",
        "q.fit(x_train,y_train)\n",
        "l=q.predict(x_test)\n",
        "o=y_test.values"
      ],
      "metadata": {
        "id": "rdSngTk8mY6F"
      },
      "execution_count": null,
      "outputs": []
    },
    {
      "cell_type": "markdown",
      "source": [
        "accuracy=57"
      ],
      "metadata": {
        "id": "X_f5h7IrL_Nb"
      }
    },
    {
      "cell_type": "code",
      "source": [
        "print (r2_score(o,l))"
      ],
      "metadata": {
        "colab": {
          "base_uri": "https://localhost:8080/"
        },
        "id": "MyX-7JyZmn8S",
        "outputId": "04fdd59a-eeaf-4ee3-bdc7-2c25e44f158f"
      },
      "execution_count": null,
      "outputs": [
        {
          "output_type": "stream",
          "name": "stdout",
          "text": [
            "0.570984593952939\n"
          ]
        }
      ]
    },
    {
      "cell_type": "markdown",
      "source": [
        "decision tree regressor"
      ],
      "metadata": {
        "id": "0Irts1vDMBad"
      }
    },
    {
      "cell_type": "code",
      "source": [
        "from sklearn.tree import DecisionTreeRegressor\n",
        "q=DecisionTreeRegressor(random_state=1)\n",
        "q.fit(x_train,y_train)\n",
        "l=q.predict(x_test)\n",
        "o=y_test.values"
      ],
      "metadata": {
        "id": "ihyzdrJ1myKw"
      },
      "execution_count": null,
      "outputs": []
    },
    {
      "cell_type": "markdown",
      "source": [
        "accuracy=57"
      ],
      "metadata": {
        "id": "0xw-IaDdMEyV"
      }
    },
    {
      "cell_type": "code",
      "source": [
        "print (r2_score(o,l))"
      ],
      "metadata": {
        "colab": {
          "base_uri": "https://localhost:8080/"
        },
        "id": "-j90rPVTne48",
        "outputId": "031ee211-fffc-4014-87f1-9972306b5040"
      },
      "execution_count": null,
      "outputs": [
        {
          "output_type": "stream",
          "name": "stdout",
          "text": [
            "0.5701365280335371\n"
          ]
        }
      ]
    },
    {
      "cell_type": "markdown",
      "source": [
        "random forest regressor"
      ],
      "metadata": {
        "id": "RN5Awr7EMGd3"
      }
    },
    {
      "cell_type": "code",
      "source": [
        "from sklearn.ensemble import RandomForestRegressor\n",
        "q1=RandomForestRegressor(random_state=1)\n",
        "q1.fit(x_train,y_train)\n",
        "l=q1.predict(x_test)\n",
        "o=y_test.values"
      ],
      "metadata": {
        "id": "gu3mlKX_nkzI"
      },
      "execution_count": null,
      "outputs": []
    },
    {
      "cell_type": "markdown",
      "source": [
        "accuracy=65 (better than any algorithm used here)"
      ],
      "metadata": {
        "id": "RFOFDkZuMI6n"
      }
    },
    {
      "cell_type": "code",
      "source": [
        "print (r2_score(o,l))"
      ],
      "metadata": {
        "colab": {
          "base_uri": "https://localhost:8080/"
        },
        "id": "tvEw6xdFn55r",
        "outputId": "e2d3bfc3-a135-441c-b67e-a831b373d683"
      },
      "execution_count": null,
      "outputs": [
        {
          "output_type": "stream",
          "name": "stdout",
          "text": [
            "0.6507343670323612\n"
          ]
        }
      ]
    },
    {
      "cell_type": "markdown",
      "source": [
        "ada boost regressor"
      ],
      "metadata": {
        "id": "cdaQE4DwMOFu"
      }
    },
    {
      "cell_type": "code",
      "source": [
        "from sklearn.ensemble import AdaBoostRegressor\n",
        "q=AdaBoostRegressor(random_state=1)\n",
        "q.fit(x_train,y_train)\n",
        "l=q.predict(x_test)\n",
        "o=y_test.values"
      ],
      "metadata": {
        "id": "7qkk0vFln7p6"
      },
      "execution_count": null,
      "outputs": []
    },
    {
      "cell_type": "markdown",
      "source": [
        "accuracy=55"
      ],
      "metadata": {
        "id": "hYI5BBRyMQEc"
      }
    },
    {
      "cell_type": "code",
      "source": [
        "print (r2_score(o,l))"
      ],
      "metadata": {
        "colab": {
          "base_uri": "https://localhost:8080/"
        },
        "id": "iQ1OQeYloSVN",
        "outputId": "f5d144b9-617b-45b9-9472-239a7eea5732"
      },
      "execution_count": null,
      "outputs": [
        {
          "output_type": "stream",
          "name": "stdout",
          "text": [
            "0.5589260681081547\n"
          ]
        }
      ]
    },
    {
      "cell_type": "markdown",
      "source": [
        "xgb regressor"
      ],
      "metadata": {
        "id": "fH9RMXdmMSVX"
      }
    },
    {
      "cell_type": "code",
      "source": [
        "from xgboost import XGBRegressor\n",
        "q=XGBRegressor(random_state=1)\n",
        "q.fit(x_train,y_train)\n",
        "l=q.predict(x_test)\n",
        "o=y_test.values"
      ],
      "metadata": {
        "id": "YBDVGVQQoVeV"
      },
      "execution_count": null,
      "outputs": []
    },
    {
      "cell_type": "markdown",
      "source": [
        "accuracy=64"
      ],
      "metadata": {
        "id": "PsMXXwJoMUhE"
      }
    },
    {
      "cell_type": "code",
      "source": [
        "print (r2_score(o,l))"
      ],
      "metadata": {
        "colab": {
          "base_uri": "https://localhost:8080/"
        },
        "id": "Xuu9LVjEomGU",
        "outputId": "f933a159-100d-42d4-b273-ce083175903d"
      },
      "execution_count": null,
      "outputs": [
        {
          "output_type": "stream",
          "name": "stdout",
          "text": [
            "0.6442860087661852\n"
          ]
        }
      ]
    },
    {
      "cell_type": "markdown",
      "source": [
        "predicted the output"
      ],
      "metadata": {
        "id": "90ekKMEuMWbl"
      }
    },
    {
      "cell_type": "code",
      "source": [
        "u=q.predict(z.transform([[32.0,84.87882,10,24.98298,121.54024]]))\n",
        "print (u)"
      ],
      "metadata": {
        "colab": {
          "base_uri": "https://localhost:8080/"
        },
        "id": "wo5kQCDqxHYD",
        "outputId": "054ec973-729d-43b6-a99d-b0060c10fca4"
      },
      "execution_count": null,
      "outputs": [
        {
          "output_type": "stream",
          "name": "stdout",
          "text": [
            "[38.00919]\n"
          ]
        },
        {
          "output_type": "stream",
          "name": "stderr",
          "text": [
            "/usr/local/lib/python3.10/dist-packages/sklearn/base.py:439: UserWarning: X does not have valid feature names, but MinMaxScaler was fitted with feature names\n",
            "  warnings.warn(\n"
          ]
        }
      ]
    },
    {
      "cell_type": "markdown",
      "source": [
        "picked the algorithm object and scaler object for deploy"
      ],
      "metadata": {
        "id": "rLufT91MMYza"
      }
    },
    {
      "cell_type": "code",
      "source": [
        "import pickle\n",
        "\n",
        "pickle.dump(q1,open(\"model\",\"wb\"))\n",
        "pickle.dump(z,open(\"scaler\",\"wb\"))"
      ],
      "metadata": {
        "id": "EoJ8uEFto6QS"
      },
      "execution_count": null,
      "outputs": []
    }
  ]
}